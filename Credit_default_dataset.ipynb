{
 "cells": [
  {
   "cell_type": "code",
   "execution_count": 1,
   "metadata": {},
   "outputs": [],
   "source": [
    "import pandas as pd\n",
    "import numpy as np\n",
    "from sklearn.model_selection import train_test_split\n",
    "from sklearn.tree import DecisionTreeClassifier\n",
    "import pydotplus\n",
    "from sklearn.externals.six import StringIO\n",
    "from IPython.display import Image\n",
    "import os\n",
    "from sklearn import tree\n",
    "from sklearn.ensemble import RandomForestClassifier, AdaBoostClassifier\n",
    "from sklearn.metrics import accuracy_score, classification_report,confusion_matrix\n",
    "from sklearn.neighbors import KNeighborsClassifier\n",
    "from sklearn.metrics import roc_curve, auc\n",
    "from sklearn.naive_bayes import GaussianNB\n",
    "import matplotlib.pyplot as plt"
   ]
  },
  {
   "cell_type": "code",
   "execution_count": 2,
   "metadata": {},
   "outputs": [
    {
     "data": {
      "text/html": [
       "<div>\n",
       "<style scoped>\n",
       "    .dataframe tbody tr th:only-of-type {\n",
       "        vertical-align: middle;\n",
       "    }\n",
       "\n",
       "    .dataframe tbody tr th {\n",
       "        vertical-align: top;\n",
       "    }\n",
       "\n",
       "    .dataframe thead th {\n",
       "        text-align: right;\n",
       "    }\n",
       "</style>\n",
       "<table border=\"1\" class=\"dataframe\">\n",
       "  <thead>\n",
       "    <tr style=\"text-align: right;\">\n",
       "      <th></th>\n",
       "      <th>checking_balance</th>\n",
       "      <th>months_loan_duration</th>\n",
       "      <th>credit_history</th>\n",
       "      <th>purpose</th>\n",
       "      <th>amount</th>\n",
       "      <th>savings_balance</th>\n",
       "      <th>employment_length</th>\n",
       "      <th>installment_rate</th>\n",
       "      <th>personal_status</th>\n",
       "      <th>other_debtors</th>\n",
       "      <th>...</th>\n",
       "      <th>property</th>\n",
       "      <th>age</th>\n",
       "      <th>installment_plan</th>\n",
       "      <th>housing</th>\n",
       "      <th>existing_credits</th>\n",
       "      <th>default</th>\n",
       "      <th>dependents</th>\n",
       "      <th>telephone</th>\n",
       "      <th>foreign_worker</th>\n",
       "      <th>job</th>\n",
       "    </tr>\n",
       "  </thead>\n",
       "  <tbody>\n",
       "    <tr>\n",
       "      <th>0</th>\n",
       "      <td>&lt; 0 DM</td>\n",
       "      <td>6</td>\n",
       "      <td>critical</td>\n",
       "      <td>radio/tv</td>\n",
       "      <td>1169</td>\n",
       "      <td>unknown</td>\n",
       "      <td>&gt; 7 yrs</td>\n",
       "      <td>4</td>\n",
       "      <td>single male</td>\n",
       "      <td>none</td>\n",
       "      <td>...</td>\n",
       "      <td>real estate</td>\n",
       "      <td>67</td>\n",
       "      <td>none</td>\n",
       "      <td>own</td>\n",
       "      <td>2</td>\n",
       "      <td>1</td>\n",
       "      <td>1</td>\n",
       "      <td>yes</td>\n",
       "      <td>yes</td>\n",
       "      <td>skilled employee</td>\n",
       "    </tr>\n",
       "    <tr>\n",
       "      <th>1</th>\n",
       "      <td>1 - 200 DM</td>\n",
       "      <td>48</td>\n",
       "      <td>repaid</td>\n",
       "      <td>radio/tv</td>\n",
       "      <td>5951</td>\n",
       "      <td>&lt; 100 DM</td>\n",
       "      <td>1 - 4 yrs</td>\n",
       "      <td>2</td>\n",
       "      <td>female</td>\n",
       "      <td>none</td>\n",
       "      <td>...</td>\n",
       "      <td>real estate</td>\n",
       "      <td>22</td>\n",
       "      <td>none</td>\n",
       "      <td>own</td>\n",
       "      <td>1</td>\n",
       "      <td>2</td>\n",
       "      <td>1</td>\n",
       "      <td>none</td>\n",
       "      <td>yes</td>\n",
       "      <td>skilled employee</td>\n",
       "    </tr>\n",
       "    <tr>\n",
       "      <th>2</th>\n",
       "      <td>unknown</td>\n",
       "      <td>12</td>\n",
       "      <td>critical</td>\n",
       "      <td>education</td>\n",
       "      <td>2096</td>\n",
       "      <td>&lt; 100 DM</td>\n",
       "      <td>4 - 7 yrs</td>\n",
       "      <td>2</td>\n",
       "      <td>single male</td>\n",
       "      <td>none</td>\n",
       "      <td>...</td>\n",
       "      <td>real estate</td>\n",
       "      <td>49</td>\n",
       "      <td>none</td>\n",
       "      <td>own</td>\n",
       "      <td>1</td>\n",
       "      <td>1</td>\n",
       "      <td>2</td>\n",
       "      <td>none</td>\n",
       "      <td>yes</td>\n",
       "      <td>unskilled resident</td>\n",
       "    </tr>\n",
       "    <tr>\n",
       "      <th>3</th>\n",
       "      <td>&lt; 0 DM</td>\n",
       "      <td>42</td>\n",
       "      <td>repaid</td>\n",
       "      <td>furniture</td>\n",
       "      <td>7882</td>\n",
       "      <td>&lt; 100 DM</td>\n",
       "      <td>4 - 7 yrs</td>\n",
       "      <td>2</td>\n",
       "      <td>single male</td>\n",
       "      <td>guarantor</td>\n",
       "      <td>...</td>\n",
       "      <td>building society savings</td>\n",
       "      <td>45</td>\n",
       "      <td>none</td>\n",
       "      <td>for free</td>\n",
       "      <td>1</td>\n",
       "      <td>1</td>\n",
       "      <td>2</td>\n",
       "      <td>none</td>\n",
       "      <td>yes</td>\n",
       "      <td>skilled employee</td>\n",
       "    </tr>\n",
       "    <tr>\n",
       "      <th>4</th>\n",
       "      <td>&lt; 0 DM</td>\n",
       "      <td>24</td>\n",
       "      <td>delayed</td>\n",
       "      <td>car (new)</td>\n",
       "      <td>4870</td>\n",
       "      <td>&lt; 100 DM</td>\n",
       "      <td>1 - 4 yrs</td>\n",
       "      <td>3</td>\n",
       "      <td>single male</td>\n",
       "      <td>none</td>\n",
       "      <td>...</td>\n",
       "      <td>unknown/none</td>\n",
       "      <td>53</td>\n",
       "      <td>none</td>\n",
       "      <td>for free</td>\n",
       "      <td>2</td>\n",
       "      <td>2</td>\n",
       "      <td>2</td>\n",
       "      <td>none</td>\n",
       "      <td>yes</td>\n",
       "      <td>skilled employee</td>\n",
       "    </tr>\n",
       "  </tbody>\n",
       "</table>\n",
       "<p>5 rows × 21 columns</p>\n",
       "</div>"
      ],
      "text/plain": [
       "  checking_balance  months_loan_duration credit_history    purpose  amount  \\\n",
       "0           < 0 DM                     6       critical   radio/tv    1169   \n",
       "1       1 - 200 DM                    48         repaid   radio/tv    5951   \n",
       "2          unknown                    12       critical  education    2096   \n",
       "3           < 0 DM                    42         repaid  furniture    7882   \n",
       "4           < 0 DM                    24        delayed  car (new)    4870   \n",
       "\n",
       "  savings_balance employment_length  installment_rate personal_status  \\\n",
       "0         unknown           > 7 yrs                 4     single male   \n",
       "1        < 100 DM         1 - 4 yrs                 2          female   \n",
       "2        < 100 DM         4 - 7 yrs                 2     single male   \n",
       "3        < 100 DM         4 - 7 yrs                 2     single male   \n",
       "4        < 100 DM         1 - 4 yrs                 3     single male   \n",
       "\n",
       "  other_debtors         ...                          property age  \\\n",
       "0          none         ...                       real estate  67   \n",
       "1          none         ...                       real estate  22   \n",
       "2          none         ...                       real estate  49   \n",
       "3     guarantor         ...          building society savings  45   \n",
       "4          none         ...                      unknown/none  53   \n",
       "\n",
       "   installment_plan   housing existing_credits  default  dependents  \\\n",
       "0              none       own                2        1           1   \n",
       "1              none       own                1        2           1   \n",
       "2              none       own                1        1           2   \n",
       "3              none  for free                1        1           2   \n",
       "4              none  for free                2        2           2   \n",
       "\n",
       "   telephone foreign_worker                 job  \n",
       "0        yes            yes    skilled employee  \n",
       "1       none            yes    skilled employee  \n",
       "2       none            yes  unskilled resident  \n",
       "3       none            yes    skilled employee  \n",
       "4       none            yes    skilled employee  \n",
       "\n",
       "[5 rows x 21 columns]"
      ]
     },
     "execution_count": 2,
     "metadata": {},
     "output_type": "execute_result"
    }
   ],
   "source": [
    "credit = pd.read_csv(\"https://raw.githubusercontent.com/skathirmani/datasets/master/credit-default.csv\")\n",
    "credit.head()"
   ]
  },
  {
   "cell_type": "code",
   "execution_count": 3,
   "metadata": {},
   "outputs": [
    {
     "data": {
      "text/plain": [
       "1    70.0\n",
       "2    30.0\n",
       "Name: default, dtype: float64"
      ]
     },
     "execution_count": 3,
     "metadata": {},
     "output_type": "execute_result"
    }
   ],
   "source": [
    "(credit['default'].value_counts()/credit.shape[0])*100"
   ]
  },
  {
   "cell_type": "code",
   "execution_count": 6,
   "metadata": {},
   "outputs": [
    {
     "data": {
      "text/plain": [
       "(1000, 21)"
      ]
     },
     "execution_count": 6,
     "metadata": {},
     "output_type": "execute_result"
    }
   ],
   "source": [
    "credit.shape"
   ]
  },
  {
   "cell_type": "code",
   "execution_count": 4,
   "metadata": {},
   "outputs": [],
   "source": [
    "credit_dummies = pd.get_dummies(credit)"
   ]
  },
  {
   "cell_type": "code",
   "execution_count": 5,
   "metadata": {},
   "outputs": [],
   "source": [
    "from sklearn.model_selection import train_test_split\n",
    "train,test = train_test_split(credit_dummies,test_size=0.3,random_state=100)"
   ]
  },
  {
   "cell_type": "code",
   "execution_count": 6,
   "metadata": {},
   "outputs": [],
   "source": [
    "train_x = train.drop('default',axis=1)\n",
    "train_y = train['default']\n",
    "\n",
    "test_x = test.drop('default',axis=1)\n",
    "test_y = test['default']"
   ]
  },
  {
   "cell_type": "code",
   "execution_count": 7,
   "metadata": {},
   "outputs": [
    {
     "data": {
      "text/plain": [
       "GridSearchCV(cv=10, error_score='raise',\n",
       "       estimator=DecisionTreeClassifier(class_weight=None, criterion='gini', max_depth=None,\n",
       "            max_features=None, max_leaf_nodes=None,\n",
       "            min_impurity_decrease=0.0, min_impurity_split=None,\n",
       "            min_samples_leaf=1, min_samples_split=2,\n",
       "            min_weight_fraction_leaf=0.0, presort=False, random_state=100,\n",
       "            splitter='best'),\n",
       "       fit_params=None, iid=True, n_jobs=1,\n",
       "       param_grid={'max_depth': [1, 2, 3, 4, 5, 6, 7, 8, 9, 10, 11, 12, 13, 14, 15, 16, 17, 18, 19, 20, 21, 22, 23, 24, 25, 26, 27, 28, 29]},\n",
       "       pre_dispatch='2*n_jobs', refit=True, return_train_score='warn',\n",
       "       scoring=None, verbose=0)"
      ]
     },
     "execution_count": 7,
     "metadata": {},
     "output_type": "execute_result"
    }
   ],
   "source": [
    "from sklearn.model_selection import GridSearchCV\n",
    "\n",
    "params = {'max_depth': list(range(1,30))}\n",
    "base_estimator = DecisionTreeClassifier(random_state=100)\n",
    "cv_model = GridSearchCV(base_estimator,param_grid=params,cv=10)\n",
    "\n",
    "cv_model.fit(train_x,train_y)"
   ]
  },
  {
   "cell_type": "code",
   "execution_count": 8,
   "metadata": {},
   "outputs": [
    {
     "data": {
      "text/plain": [
       "{'max_depth': 4}"
      ]
     },
     "execution_count": 8,
     "metadata": {},
     "output_type": "execute_result"
    }
   ],
   "source": [
    "cv_model.best_params_"
   ]
  },
  {
   "cell_type": "code",
   "execution_count": 20,
   "metadata": {},
   "outputs": [
    {
     "name": "stdout",
     "output_type": "stream",
     "text": [
      "0.6966666666666667\n",
      "             precision    recall  f1-score   support\n",
      "\n",
      "          1       0.78      0.81      0.80       219\n",
      "          2       0.43      0.40      0.41        81\n",
      "\n",
      "avg / total       0.69      0.70      0.69       300\n",
      "\n"
     ]
    },
    {
     "data": {
      "text/plain": [
       "array([2.        , 1.        , 0.94871795, 0.9       , 0.82222222,\n",
       "       0.77777778, 0.73148148, 0.68181818, 0.6       , 0.4       ,\n",
       "       0.34246575, 0.33333333, 0.2       , 0.        ])"
      ]
     },
     "execution_count": 20,
     "metadata": {},
     "output_type": "execute_result"
    }
   ],
   "source": [
    "model = DecisionTreeClassifier(random_state=100,max_depth=4)\n",
    "model.fit(train_x,train_y)\n",
    "\n",
    "pred_test = model.predict(test_x)\n",
    "\n",
    "print(accuracy_score(test_y,pred_test))\n",
    "print(classification_report(test_y,pred_test))\n",
    "\n",
    "pred_probs_dt = pd.DataFrame(model.predict_proba(test_x),\n",
    "                          columns=['Pos','Neg'])\n",
    "fpr_dt_5,tpr_dt_5,thr_dt_5 = roc_curve(test_y,pred_probs_dt['Pos'],pos_label=1)\n",
    "thr_dt_5"
   ]
  },
  {
   "cell_type": "code",
   "execution_count": 21,
   "metadata": {},
   "outputs": [
    {
     "name": "stdout",
     "output_type": "stream",
     "text": [
      "0.7333333333333333\n",
      "             precision    recall  f1-score   support\n",
      "\n",
      "          1       0.78      0.88      0.83       219\n",
      "          2       0.51      0.33      0.40        81\n",
      "\n",
      "avg / total       0.71      0.73      0.71       300\n",
      "\n"
     ]
    },
    {
     "data": {
      "text/plain": [
       "array([0.98666667, 0.98333333, 0.96666667, 0.95      , 0.94666667,\n",
       "       0.94333333, 0.92666667, 0.92      , 0.91666667, 0.91333333,\n",
       "       0.91      , 0.90666667, 0.90333333, 0.9       , 0.89666667,\n",
       "       0.88333333, 0.87666667, 0.87      , 0.86666667, 0.86      ,\n",
       "       0.85666667, 0.85333333, 0.85      , 0.84333333, 0.84      ,\n",
       "       0.83333333, 0.83      , 0.82666667, 0.82333333, 0.82      ,\n",
       "       0.81666667, 0.81333333, 0.81      , 0.80666667, 0.80333333,\n",
       "       0.79666667, 0.79333333, 0.79      , 0.78666667, 0.78      ,\n",
       "       0.77666667, 0.77333333, 0.77      , 0.76666667, 0.76333333,\n",
       "       0.76      , 0.75666667, 0.75333333, 0.75      , 0.74333333,\n",
       "       0.74      , 0.73666667, 0.73333333, 0.72333333, 0.72      ,\n",
       "       0.71666667, 0.71333333, 0.71      , 0.7       , 0.69666667,\n",
       "       0.69333333, 0.68333333, 0.68      , 0.67666667, 0.67333333,\n",
       "       0.67      , 0.66333333, 0.66      , 0.65666667, 0.65333333,\n",
       "       0.65      , 0.64666667, 0.64      , 0.63333333, 0.63      ,\n",
       "       0.62666667, 0.62333333, 0.62      , 0.61666667, 0.61333333,\n",
       "       0.61      , 0.60666667, 0.60333333, 0.6       , 0.59333333,\n",
       "       0.59      , 0.58666667, 0.58      , 0.57666667, 0.57333333,\n",
       "       0.56666667, 0.56333333, 0.56      , 0.55666667, 0.55333333,\n",
       "       0.55      , 0.54333333, 0.53666667, 0.53333333, 0.53      ,\n",
       "       0.52333333, 0.52      , 0.51666667, 0.51333333, 0.51      ,\n",
       "       0.50333333, 0.49333333, 0.49      , 0.48333333, 0.48      ,\n",
       "       0.47333333, 0.47      , 0.45666667, 0.45333333, 0.44666667,\n",
       "       0.44333333, 0.43333333, 0.43      , 0.42333333, 0.41666667,\n",
       "       0.41333333, 0.41      , 0.39333333, 0.39      , 0.38333333,\n",
       "       0.38      , 0.37666667, 0.37      , 0.32666667, 0.31666667,\n",
       "       0.31      , 0.21      ])"
      ]
     },
     "execution_count": 21,
     "metadata": {},
     "output_type": "execute_result"
    }
   ],
   "source": [
    "model_rf = RandomForestClassifier(random_state = 100,\n",
    "                                 n_estimators=300)\n",
    "model_rf.fit(train_x,train_y)\n",
    "pred = model_rf.predict(test_x)\n",
    "\n",
    "print(accuracy_score(test_y,pred))\n",
    "print(classification_report(test_y,pred))\n",
    "\n",
    "pred_probs_rf = pd.DataFrame(model_rf.predict_proba(test_x),\n",
    "                          columns=['Pos','Neg'])\n",
    "fpr_rf_5,tpr_rf_5,thr_rf_5 = roc_curve(test_y,pred_probs_rf['Pos'],pos_label=1)\n",
    "thr_rf_5"
   ]
  },
  {
   "cell_type": "code",
   "execution_count": 22,
   "metadata": {},
   "outputs": [
    {
     "name": "stdout",
     "output_type": "stream",
     "text": [
      "0.6933333333333334\n",
      "             precision    recall  f1-score   support\n",
      "\n",
      "          1       0.78      0.81      0.79       219\n",
      "          2       0.42      0.37      0.39        81\n",
      "\n",
      "avg / total       0.68      0.69      0.69       300\n",
      "\n"
     ]
    },
    {
     "data": {
      "text/plain": [
       "array([0.55086599, 0.52930104, 0.52921567, 0.505412  , 0.50531151,\n",
       "       0.5049384 , 0.50486822, 0.50469708, 0.50468301, 0.50434406,\n",
       "       0.50433101, 0.50369749, 0.50366119, 0.50329082, 0.50327911,\n",
       "       0.50325181, 0.5032189 , 0.50320449, 0.50316605, 0.50309943,\n",
       "       0.50309576, 0.50302533, 0.5029796 , 0.50265169, 0.50263499,\n",
       "       0.50260498, 0.50257557, 0.5023967 , 0.50239468, 0.50229589,\n",
       "       0.50229352, 0.50222929, 0.50222465, 0.50219939, 0.50213977,\n",
       "       0.50208255, 0.50200444, 0.50177069, 0.50173747, 0.50170923,\n",
       "       0.50169299, 0.50156291, 0.50149914, 0.50148464, 0.50145757,\n",
       "       0.50131795, 0.50131436, 0.50120725, 0.50118675, 0.50110445,\n",
       "       0.5010958 , 0.50101541, 0.50100585, 0.5009784 , 0.50095663,\n",
       "       0.50088165, 0.50087816, 0.50066946, 0.50061044, 0.50050105,\n",
       "       0.50038733, 0.5003838 , 0.50034592, 0.50029946, 0.50026134,\n",
       "       0.50025641, 0.5002007 , 0.50015928, 0.50015728, 0.50011065,\n",
       "       0.50010018, 0.50006447, 0.50005843, 0.5000249 , 0.49997838,\n",
       "       0.49991531, 0.49987596, 0.49962439, 0.49959792, 0.499557  ,\n",
       "       0.49947693, 0.49944621, 0.49944545, 0.49936829, 0.49931904,\n",
       "       0.49926533, 0.49924866, 0.49921831, 0.49919275, 0.49919002,\n",
       "       0.49910199, 0.49908696, 0.49895311, 0.49891147, 0.49886351,\n",
       "       0.49870039, 0.49865625, 0.49854055, 0.49849314, 0.49842858,\n",
       "       0.49836759, 0.49835931, 0.49822071, 0.49821597, 0.49797683,\n",
       "       0.49772705, 0.49762643, 0.49761142, 0.49751707, 0.49725822,\n",
       "       0.49645517, 0.49454914, 0.49286775, 0.49264606, 0.49063064])"
      ]
     },
     "execution_count": 22,
     "metadata": {},
     "output_type": "execute_result"
    }
   ],
   "source": [
    "model_ab = AdaBoostClassifier(random_state = 100,\n",
    "                                 n_estimators=300)\n",
    "model_ab.fit(train_x,train_y)\n",
    "pred_ab = model_ab.predict(test_x)\n",
    "\n",
    "print(accuracy_score(test_y,pred_ab))\n",
    "print(classification_report(test_y,pred_ab))\n",
    "\n",
    "pred_probs_ab = pd.DataFrame(model_ab.predict_proba(test_x),\n",
    "                          columns=['Pos','Neg'])\n",
    "fpr_ab_5,tpr_ab_5,thr_ab_5 = roc_curve(test_y,pred_probs_ab['Pos'],pos_label=1)\n",
    "thr_ab_5"
   ]
  },
  {
   "cell_type": "code",
   "execution_count": 38,
   "metadata": {},
   "outputs": [
    {
     "name": "stdout",
     "output_type": "stream",
     "text": [
      "0.6766666666666666\n",
      "             precision    recall  f1-score   support\n",
      "\n",
      "          1       0.75      0.84      0.79       219\n",
      "          2       0.35      0.23      0.28        81\n",
      "\n",
      "avg / total       0.64      0.68      0.65       300\n",
      "\n"
     ]
    }
   ],
   "source": [
    "model_knn = KNeighborsClassifier(n_neighbors=5)\n",
    "model_knn.fit(train_x,train_y)\n",
    "pred_knn = model_knn.predict(test_x)\n",
    "print(accuracy_score(test_y,pred_knn))\n",
    "print(classification_report(test_y,pred_knn))\n",
    "\n",
    "pred_probs_knn = pd.DataFrame(model_knn.predict_proba(test_x),\n",
    "                          columns=['Pos','Neg'])\n",
    "fpr_knn_5,tpr_knn_5,thr_knn_5 = roc_curve(test_y,pred_probs_knn['Pos'],pos_label=1)"
   ]
  },
  {
   "cell_type": "code",
   "execution_count": 39,
   "metadata": {},
   "outputs": [
    {
     "name": "stdout",
     "output_type": "stream",
     "text": [
      "0.6833333333333333\n",
      "             precision    recall  f1-score   support\n",
      "\n",
      "          1       0.81      0.74      0.77       219\n",
      "          2       0.43      0.54      0.48        81\n",
      "\n",
      "avg / total       0.71      0.68      0.69       300\n",
      "\n"
     ]
    }
   ],
   "source": [
    "model_nb = GaussianNB()\n",
    "model_nb.fit(train_x,train_y)\n",
    "pred_class = model_nb.predict(test_x)\n",
    "print(accuracy_score(test_y, pred_class))\n",
    "print(classification_report(test_y, pred_class))\n",
    "\n",
    "pred_probs_nb = pd.DataFrame(model_nb.predict_proba(test_x),\n",
    "                          columns=['Pos','Neg'])\n",
    "fpr_nb_5,tpr_nb_5,thr_nb_5 = roc_curve(test_y,pred_probs_nb['Pos'],pos_label=1)"
   ]
  },
  {
   "cell_type": "code",
   "execution_count": 42,
   "metadata": {},
   "outputs": [
    {
     "data": {
      "text/plain": [
       "<matplotlib.legend.Legend at 0x25d5c92d860>"
      ]
     },
     "execution_count": 42,
     "metadata": {},
     "output_type": "execute_result"
    },
    {
     "data": {
      "image/png": "[encoded data removed]",
      "text/plain": [
       "<matplotlib.figure.Figure at 0x25d5c8e9d30>"
      ]
     },
     "metadata": {
      "needs_background": "light"
     },
     "output_type": "display_data"
    }
   ],
   "source": [
    "from sklearn.metrics import auc\n",
    "auc_dt_5 = auc(fpr_dt_5,tpr_dt_5)\n",
    "auc_rf_5 = auc(fpr_rf_5,tpr_rf_5)\n",
    "auc_ab_5 = auc(fpr_ab_5,tpr_ab_5)\n",
    "auc_knn_5 = auc(fpr_knn_5,tpr_knn_5)\n",
    "auc_nb_5 = auc(fpr_nb_5,tpr_nb_5)\n",
    "plt.plot(fpr_dt_5,tpr_dt_5)\n",
    "plt.plot(fpr_rf_5,tpr_rf_5)\n",
    "plt.plot(fpr_ab_5,tpr_ab_5)\n",
    "plt.plot(fpr_knn_5,tpr_knn_5)\n",
    "plt.plot(fpr_nb_5,tpr_nb_5)\n",
    "plt.legend(['DecisionTree - AUC: %.3f, Acc: 69.6, Sen: 40' % auc_dt_5,\n",
    "           'Random Forest - AUC: %.3f, Acc: 73.3, Sen: 33' % auc_rf_5,\n",
    "           'AdaBoost - AUC: %.3f, Acc: 69.3, Sen: 37' % auc_ab_5,\n",
    "           'KNN - AUC: %.3f, Acc: 67.6, Sen: 23' % auc_knn_5,\n",
    "           'Naive Bayes - AUC: %.3f, Acc: 68.3, Sen: 54' % auc_nb_5])"
   ]
  },
  {
   "cell_type": "markdown",
   "metadata": {},
   "source": [
    "# Random Forest Model is the best as it is giving the highest accuracy of 73%\n",
    "-The best line in AUC curve is also Random Forest line"
   ]
  }
 ],
 "metadata": {
  "kernelspec": {
   "display_name": "Python 3",
   "language": "python",
   "name": "python3"
  },
  "language_info": {
   "codemirror_mode": {
    "name": "ipython",
    "version": 3
   },
   "file_extension": ".py",
   "mimetype": "text/x-python",
   "name": "python",
   "nbconvert_exporter": "python",
   "pygments_lexer": "ipython3",
   "version": "3.6.4"
  }
 },
 "nbformat": 4,
 "nbformat_minor": 2
}
